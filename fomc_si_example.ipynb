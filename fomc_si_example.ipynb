{
 "cells": [
  {
   "cell_type": "code",
   "execution_count": 1,
   "metadata": {},
   "outputs": [],
   "source": [
    "# Import libraries\n",
    "import torch\n",
    "from transformers import BertTokenizer, BertForSequenceClassification\n",
    "import pandas as pd\n",
    "import numpy as np\n",
    "import re"
   ]
  },
  {
   "cell_type": "code",
   "execution_count": 2,
   "metadata": {},
   "outputs": [],
   "source": [
    "import matplotlib.pyplot as plt\n",
    "import statsmodels.formula.api as smf\n",
    "import math\n",
    "%matplotlib inline"
   ]
  },
  {
   "cell_type": "code",
   "execution_count": 3,
   "metadata": {},
   "outputs": [],
   "source": [
    "model = BertForSequenceClassification.from_pretrained(\"ProsusAI/finbert\")"
   ]
  },
  {
   "cell_type": "code",
   "execution_count": 4,
   "metadata": {},
   "outputs": [],
   "source": [
    "tokenizer = BertTokenizer.from_pretrained(\"ProsusAI/finbert\")"
   ]
  },
  {
   "cell_type": "code",
   "execution_count": 5,
   "metadata": {},
   "outputs": [],
   "source": [
    "# Function to perform sentiment analysis on text data\n",
    "def predict_sentiment(text_data):\n",
    "    # Tokenize the input text data\n",
    "    tokens = tokenizer(text_data, padding=True, truncation=True, return_tensors='pt')\n",
    "    \n",
    "    # Pass the tokenized data through the finBERT model to get predicted sentiment scores\n",
    "    with torch.no_grad():\n",
    "        outputs = model(**tokens)\n",
    "        logits = outputs.logits\n",
    "\n",
    "    # Get predicted sentiment labels (positive, neutral, negative) from logits\n",
    "    _, predicted_labels = torch.max(logits, dim=1)\n",
    "    # Convert the logits to probabilities\n",
    "    probs = torch.nn.functional.softmax(outputs.logits, dim=-1)\n",
    "    # Convert probabilities tensor to numpy array\n",
    "    probs_np = probs.detach().numpy()\n",
    "\n",
    "    # Map numerical labels back to sentiment categories\n",
    "    sentiment_mapping = {0: \"negative\", 1: \"neutral\", 2: \"positive\"}\n",
    "    predicted_sentiments = [sentiment_mapping[label.item()] for label in predicted_labels]\n",
    "    predicted_sentiments_pd=pd.DataFrame({\"Text\": text_data, \"Predicted Sentiment\": predicted_sentiments})\n",
    "    # Create a new DataFrame with dates and probabilities\n",
    "    df_probs = pd.DataFrame({\n",
    "    'negative_prob': probs_np[:, 0],\n",
    "    'neutral_prob': probs_np[:, 1],\n",
    "    'positive_prob': probs_np[:, 2]\n",
    "    })\n",
    "    #print(probs_np)\n",
    "    #print(df_results)\n",
    "    predicted_sentiments_pr = pd.concat([predicted_sentiments_pd, df_probs], axis=1) \n",
    "    \n",
    "   # print(predicted_sentiments_pr)\n",
    "    return predicted_sentiments_pr"
   ]
  },
  {
   "cell_type": "code",
   "execution_count": 6,
   "metadata": {},
   "outputs": [],
   "source": [
    "# The function that splits each statment text into seperate sentences. \n",
    "def sentence_split(text):\n",
    "    return re.split(r'(?<=\\w\\.)\\s+',text)\n"
   ]
  },
  {
   "cell_type": "code",
   "execution_count": 7,
   "metadata": {},
   "outputs": [],
   "source": [
    "#   Load the text data \n",
    "text_dta = pd.read_excel('fomc_statements.xlsx', sheet_name='statements')"
   ]
  },
  {
   "cell_type": "code",
   "execution_count": 8,
   "metadata": {},
   "outputs": [],
   "source": [
    "# Call the function to split the sentences for each date\n",
    "text_dta[\"Statement_sentence\"] = text_dta[\"Statement\"].apply(sentence_split)"
   ]
  },
  {
   "cell_type": "code",
   "execution_count": 9,
   "metadata": {},
   "outputs": [],
   "source": [
    "cleaned_statement = text_dta.replace(\"U.S.\", \"US\")"
   ]
  },
  {
   "cell_type": "code",
   "execution_count": 10,
   "metadata": {},
   "outputs": [
    {
     "data": {
      "text/html": [
       "<div>\n",
       "<style scoped>\n",
       "    .dataframe tbody tr th:only-of-type {\n",
       "        vertical-align: middle;\n",
       "    }\n",
       "\n",
       "    .dataframe tbody tr th {\n",
       "        vertical-align: top;\n",
       "    }\n",
       "\n",
       "    .dataframe thead th {\n",
       "        text-align: right;\n",
       "    }\n",
       "</style>\n",
       "<table border=\"1\" class=\"dataframe\">\n",
       "  <thead>\n",
       "    <tr style=\"text-align: right;\">\n",
       "      <th></th>\n",
       "      <th>Date</th>\n",
       "      <th>Statement</th>\n",
       "      <th>Statement_sentence</th>\n",
       "    </tr>\n",
       "  </thead>\n",
       "  <tbody>\n",
       "    <tr>\n",
       "      <th>0</th>\n",
       "      <td>2000-02-02</td>\n",
       "      <td>The Federal Open Market Committee voted today ...</td>\n",
       "      <td>[The Federal Open Market Committee voted today...</td>\n",
       "    </tr>\n",
       "    <tr>\n",
       "      <th>1</th>\n",
       "      <td>2000-03-21</td>\n",
       "      <td>The Federal Open Market Committee voted today ...</td>\n",
       "      <td>[The Federal Open Market Committee voted today...</td>\n",
       "    </tr>\n",
       "    <tr>\n",
       "      <th>2</th>\n",
       "      <td>2000-05-16</td>\n",
       "      <td>The Federal Open Market Committee voted today ...</td>\n",
       "      <td>[The Federal Open Market Committee voted today...</td>\n",
       "    </tr>\n",
       "    <tr>\n",
       "      <th>3</th>\n",
       "      <td>2000-06-28</td>\n",
       "      <td>The Federal Open Market Committee at its meeti...</td>\n",
       "      <td>[The Federal Open Market Committee at its meet...</td>\n",
       "    </tr>\n",
       "    <tr>\n",
       "      <th>4</th>\n",
       "      <td>2000-08-22</td>\n",
       "      <td>The Federal Open Market Committee at its meeti...</td>\n",
       "      <td>[The Federal Open Market Committee at its meet...</td>\n",
       "    </tr>\n",
       "    <tr>\n",
       "      <th>...</th>\n",
       "      <td>...</td>\n",
       "      <td>...</td>\n",
       "      <td>...</td>\n",
       "    </tr>\n",
       "    <tr>\n",
       "      <th>197</th>\n",
       "      <td>2023-02-01</td>\n",
       "      <td>Recent indicators point to modest growth in sp...</td>\n",
       "      <td>[Recent indicators point to modest growth in s...</td>\n",
       "    </tr>\n",
       "    <tr>\n",
       "      <th>198</th>\n",
       "      <td>2023-03-22</td>\n",
       "      <td>Recent indicators point to modest growth in sp...</td>\n",
       "      <td>[Recent indicators point to modest growth in s...</td>\n",
       "    </tr>\n",
       "    <tr>\n",
       "      <th>199</th>\n",
       "      <td>2023-05-03</td>\n",
       "      <td>Economic activity expanded at a modest pace in...</td>\n",
       "      <td>[Economic activity expanded at a modest pace i...</td>\n",
       "    </tr>\n",
       "    <tr>\n",
       "      <th>200</th>\n",
       "      <td>2023-06-14</td>\n",
       "      <td>Recent indicators suggest that economic activi...</td>\n",
       "      <td>[Recent indicators suggest that economic activ...</td>\n",
       "    </tr>\n",
       "    <tr>\n",
       "      <th>201</th>\n",
       "      <td>2023-07-26</td>\n",
       "      <td>Recent indicators suggest that economic activi...</td>\n",
       "      <td>[Recent indicators suggest that economic activ...</td>\n",
       "    </tr>\n",
       "  </tbody>\n",
       "</table>\n",
       "<p>202 rows × 3 columns</p>\n",
       "</div>"
      ],
      "text/plain": [
       "          Date                                          Statement  \\\n",
       "0   2000-02-02  The Federal Open Market Committee voted today ...   \n",
       "1   2000-03-21  The Federal Open Market Committee voted today ...   \n",
       "2   2000-05-16  The Federal Open Market Committee voted today ...   \n",
       "3   2000-06-28  The Federal Open Market Committee at its meeti...   \n",
       "4   2000-08-22  The Federal Open Market Committee at its meeti...   \n",
       "..         ...                                                ...   \n",
       "197 2023-02-01  Recent indicators point to modest growth in sp...   \n",
       "198 2023-03-22  Recent indicators point to modest growth in sp...   \n",
       "199 2023-05-03  Economic activity expanded at a modest pace in...   \n",
       "200 2023-06-14  Recent indicators suggest that economic activi...   \n",
       "201 2023-07-26  Recent indicators suggest that economic activi...   \n",
       "\n",
       "                                    Statement_sentence  \n",
       "0    [The Federal Open Market Committee voted today...  \n",
       "1    [The Federal Open Market Committee voted today...  \n",
       "2    [The Federal Open Market Committee voted today...  \n",
       "3    [The Federal Open Market Committee at its meet...  \n",
       "4    [The Federal Open Market Committee at its meet...  \n",
       "..                                                 ...  \n",
       "197  [Recent indicators point to modest growth in s...  \n",
       "198  [Recent indicators point to modest growth in s...  \n",
       "199  [Economic activity expanded at a modest pace i...  \n",
       "200  [Recent indicators suggest that economic activ...  \n",
       "201  [Recent indicators suggest that economic activ...  \n",
       "\n",
       "[202 rows x 3 columns]"
      ]
     },
     "execution_count": 10,
     "metadata": {},
     "output_type": "execute_result"
    }
   ],
   "source": [
    "text_dta"
   ]
  },
  {
   "cell_type": "code",
   "execution_count": 11,
   "metadata": {},
   "outputs": [
    {
     "data": {
      "text/plain": [
       "['The Federal Open Market Committee voted today to raise its target for the federal funds rate by 25 basis points to 6 percent.',\n",
       " 'In a related action, the Board of Governors approved a 25 basis point increase in the discount rate to 5-1/2 percent.',\n",
       " 'Economic conditions and considerations addressed by the Committee are essentially the same as when the Committee met in February.',\n",
       " \"The Committee remains concerned that increases in demand will continue to exceed the growth in potential supply, which could foster inflationary imbalances that would undermine the economy's record economic expansion.\",\n",
       " 'Against the background of its long-run goals of price stability and sustainable economic growth and of the information currently available, the Committee believes the risks are weighted mainly toward conditions that may generate heightened inflation pressures in the foreseeable future.',\n",
       " 'In taking the discount rate action, the Federal Reserve Board approved requests submitted by the Boards of Directors of the Federal Reserve Banks of Boston, New York, Philadelphia, Cleveland, Richmond, Atlanta, Chicago, St Louis, Minneapolis, Kansas City and San Francisco.',\n",
       " 'The discount rate is the rate charged depository institutions when they borrow short-term adjustment credit from their district Federal Reserve Banks.']"
      ]
     },
     "execution_count": 11,
     "metadata": {},
     "output_type": "execute_result"
    }
   ],
   "source": [
    "# Check the splitted text \n",
    "text_dta[\"Statement_sentence\"][1]"
   ]
  },
  {
   "cell_type": "code",
   "execution_count": 12,
   "metadata": {},
   "outputs": [],
   "source": [
    "#if __name__ == \"__main__\":\n",
    "    #text_data = [\"Recent indicators suggest that economic activity has continued to expand at a modest pace.\",  \"Job gains have been robust in recent months, and the unemployment rate has remained low.\",  \"Inflation remains elevated.\", \"The U.S. banking system is sound and resilient.\",  \"Tighter credit conditions for households and businesses are likely to weigh on economic activity, hiring, and inflation.\",  \"The extent of these effects remains uncertain.\",  \"The Committee remains highly attentive to inflation risks.\", \"The Committee seeks to achieve maximum employment and inflation at the rate of 2 percent over the longer run.\",  \"In support of these goals, the Committee decided to maintain the target range for the federal funds rate at 5 to 5-1/4 percent.\",  \"Holding the target range steady at this meeting allows the Committee to assess additional information and its implications for monetary policy.\",  \"In determining the extent of additional policy firming that may be appropriate to return inflation to 2 percent over time, the Committee will take into account the cumulative tightening of monetary policy, the lags with which monetary policy affects economic activity and inflation, and economic and financial developments.\", \"In addition, the Committee will continue reducing its holdings of Treasury securities and agency debt and agency mortgage-backed securities, as described in its previously announced plans.\",  \"The Committee is strongly committed to returning inflation to its 2 percent objective.\", \"In assessing the appropriate stance of monetary policy, the Committee will continue to monitor the implications of incoming information for the economic outlook.\",  \"The Committee would be prepared to adjust the stance of monetary policy as appropriate if risks emerge that could impede the attainment of the Committee's goals.\",  \"The Committee's assessments will take into account a wide range of information, including readings on labor market conditions, inflation pressures and inflation expectations, and financial and international developments.\", \"Voting for the monetary policy action were Jerome H. Powell, Chair; John C. Williams, Vice Chair; Michael S. Barr; Michelle W. Bowman; Lisa D. Cook; Austan D. Goolsbee; Patrick Harker; Philip N. Jefferson; Neel Kashkari; Lorie K. Logan; and Christopher J. Waller.\"]\n",
    "    #text_data = text_dta[\"Statement_sentence\"][1]\n",
    "    #predicted_sentiments = predict_sentiment(text_data)"
   ]
  },
  {
   "cell_type": "code",
   "execution_count": 13,
   "metadata": {},
   "outputs": [],
   "source": [
    "#predicted_sentiments"
   ]
  },
  {
   "cell_type": "code",
   "execution_count": 14,
   "metadata": {},
   "outputs": [
    {
     "data": {
      "text/plain": [
       "['Recent indicators suggest that economic activity has been expanding at a moderate pace.',\n",
       " 'Job gains have been robust in recent months, and the unemployment rate has remained low.',\n",
       " 'Inflation remains elevated.',\n",
       " 'The US banking system is sound and resilient.',\n",
       " 'Tighter credit conditions for households and businesses are likely to weigh on economic activity, hiring, and inflation.',\n",
       " 'The extent of these effects remains uncertain.',\n",
       " 'The Committee remains highly attentive to inflation risks.',\n",
       " 'The Committee seeks to achieve maximum employment and inflation at the rate of 2 percent over the longer run.',\n",
       " 'In support of these goals, the Committee decided to raise the target range for the federal funds rate to 5-1/4 to 5-1/2 percent.',\n",
       " 'The Committee will continue to assess additional information and its implications for monetary policy.',\n",
       " 'In determining the extent of additional policy firming that may be appropriate to return inflation to 2 percent over time, the Committee will take into account the cumulative tightening of monetary policy, the lags with which monetary policy affects economic activity and inflation, and economic and financial developments.',\n",
       " 'In addition, the Committee will continue reducing its holdings of Treasury securities and agency debt and agency mortgage-backed securities, as described in its previously announced plans.',\n",
       " 'The Committee is strongly committed to returning inflation to its 2 percent objective.',\n",
       " 'In assessing the appropriate stance of monetary policy, the Committee will continue to monitor the implications of incoming information for the economic outlook.',\n",
       " \"The Committee would be prepared to adjust the stance of monetary policy as appropriate if risks emerge that could impede the attainment of the Committee's goals.\",\n",
       " \"The Committee's assessments will take into account a wide range of information, including readings on labor market conditions, inflation pressures and inflation expectations, and financial and international developments.\",\n",
       " 'Voting for the monetary policy action were Jerome H Powell, Chair; John C Williams, Vice Chair; Michael S Barr; Michelle W Bowman; Lisa D Cook; Austan D Goolsbee; Patrick Harker; Philip N Jefferson; Neel Kashkari; Lorie K Logan; and Christopher J Waller.']"
      ]
     },
     "execution_count": 14,
     "metadata": {},
     "output_type": "execute_result"
    }
   ],
   "source": [
    "text_dta[\"Statement_sentence\"][201]\n",
    "\n"
   ]
  },
  {
   "cell_type": "code",
   "execution_count": 15,
   "metadata": {},
   "outputs": [],
   "source": [
    "# Here we use the Statements as a series object so that iteratioon below can be executed\n",
    "text_data = text_dta[\"Statement_sentence\"]"
   ]
  },
  {
   "cell_type": "code",
   "execution_count": 16,
   "metadata": {},
   "outputs": [
    {
     "data": {
      "text/plain": [
       "0      [The Federal Open Market Committee voted today...\n",
       "1      [The Federal Open Market Committee voted today...\n",
       "2      [The Federal Open Market Committee voted today...\n",
       "3      [The Federal Open Market Committee at its meet...\n",
       "4      [The Federal Open Market Committee at its meet...\n",
       "                             ...                        \n",
       "197    [Recent indicators point to modest growth in s...\n",
       "198    [Recent indicators point to modest growth in s...\n",
       "199    [Economic activity expanded at a modest pace i...\n",
       "200    [Recent indicators suggest that economic activ...\n",
       "201    [Recent indicators suggest that economic activ...\n",
       "Name: Statement_sentence, Length: 202, dtype: object"
      ]
     },
     "execution_count": 16,
     "metadata": {},
     "output_type": "execute_result"
    }
   ],
   "source": [
    "text_data"
   ]
  },
  {
   "cell_type": "code",
   "execution_count": 17,
   "metadata": {},
   "outputs": [],
   "source": [
    "# Starting here, the code iterates over each statement and collects FOMC Sentiment Index in a list"
   ]
  },
  {
   "cell_type": "code",
   "execution_count": 18,
   "metadata": {},
   "outputs": [],
   "source": [
    "if __name__ == \"__main__\":\n",
    "    fomc_si = []\n",
    "    for value in text_data:\n",
    "        text_i = value \n",
    "        #print(text_i)\n",
    "        predicted_sentiments = predict_sentiment(text_i)\n",
    "        predicted_sentiments['fomc_indx_num'] = np.where(predicted_sentiments['Predicted Sentiment']== 'neutral', 0, -1*predicted_sentiments['negative_prob'] + 1*predicted_sentiments['positive_prob'])\n",
    "        fomc_si.append( -predicted_sentiments['fomc_indx_num'].mean())\n",
    "    \n",
    "        #print(fomc_si)\n"
   ]
  },
  {
   "cell_type": "code",
   "execution_count": 19,
   "metadata": {},
   "outputs": [],
   "source": [
    "# Once the list of index values are obtained then we first put them in a dataframe and then combine back with the original \n",
    "# text data so that further analysis can be conducted."
   ]
  },
  {
   "cell_type": "code",
   "execution_count": 20,
   "metadata": {},
   "outputs": [],
   "source": [
    "fomc_si_df = pd.DataFrame(fomc_si, columns=['FOMC Sentiment Index'])\n",
    "fomc_si_df = pd.concat([text_dta, fomc_si_df], axis =1) "
   ]
  },
  {
   "cell_type": "code",
   "execution_count": 21,
   "metadata": {},
   "outputs": [
    {
     "data": {
      "text/html": [
       "<div>\n",
       "<style scoped>\n",
       "    .dataframe tbody tr th:only-of-type {\n",
       "        vertical-align: middle;\n",
       "    }\n",
       "\n",
       "    .dataframe tbody tr th {\n",
       "        vertical-align: top;\n",
       "    }\n",
       "\n",
       "    .dataframe thead th {\n",
       "        text-align: right;\n",
       "    }\n",
       "</style>\n",
       "<table border=\"1\" class=\"dataframe\">\n",
       "  <thead>\n",
       "    <tr style=\"text-align: right;\">\n",
       "      <th></th>\n",
       "      <th>Date</th>\n",
       "      <th>Statement</th>\n",
       "      <th>Statement_sentence</th>\n",
       "      <th>FOMC Sentiment Index</th>\n",
       "    </tr>\n",
       "  </thead>\n",
       "  <tbody>\n",
       "    <tr>\n",
       "      <th>0</th>\n",
       "      <td>2000-02-02</td>\n",
       "      <td>The Federal Open Market Committee voted today ...</td>\n",
       "      <td>[The Federal Open Market Committee voted today...</td>\n",
       "      <td>-0.070471</td>\n",
       "    </tr>\n",
       "    <tr>\n",
       "      <th>1</th>\n",
       "      <td>2000-03-21</td>\n",
       "      <td>The Federal Open Market Committee voted today ...</td>\n",
       "      <td>[The Federal Open Market Committee voted today...</td>\n",
       "      <td>-0.328228</td>\n",
       "    </tr>\n",
       "    <tr>\n",
       "      <th>2</th>\n",
       "      <td>2000-05-16</td>\n",
       "      <td>The Federal Open Market Committee voted today ...</td>\n",
       "      <td>[The Federal Open Market Committee voted today...</td>\n",
       "      <td>-0.189806</td>\n",
       "    </tr>\n",
       "    <tr>\n",
       "      <th>3</th>\n",
       "      <td>2000-06-28</td>\n",
       "      <td>The Federal Open Market Committee at its meeti...</td>\n",
       "      <td>[The Federal Open Market Committee at its meet...</td>\n",
       "      <td>0.261819</td>\n",
       "    </tr>\n",
       "    <tr>\n",
       "      <th>4</th>\n",
       "      <td>2000-08-22</td>\n",
       "      <td>The Federal Open Market Committee at its meeti...</td>\n",
       "      <td>[The Federal Open Market Committee at its meet...</td>\n",
       "      <td>0.157842</td>\n",
       "    </tr>\n",
       "    <tr>\n",
       "      <th>...</th>\n",
       "      <td>...</td>\n",
       "      <td>...</td>\n",
       "      <td>...</td>\n",
       "      <td>...</td>\n",
       "    </tr>\n",
       "    <tr>\n",
       "      <th>197</th>\n",
       "      <td>2023-02-01</td>\n",
       "      <td>Recent indicators point to modest growth in sp...</td>\n",
       "      <td>[Recent indicators point to modest growth in s...</td>\n",
       "      <td>-0.204597</td>\n",
       "    </tr>\n",
       "    <tr>\n",
       "      <th>198</th>\n",
       "      <td>2023-03-22</td>\n",
       "      <td>Recent indicators point to modest growth in sp...</td>\n",
       "      <td>[Recent indicators point to modest growth in s...</td>\n",
       "      <td>-0.215664</td>\n",
       "    </tr>\n",
       "    <tr>\n",
       "      <th>199</th>\n",
       "      <td>2023-05-03</td>\n",
       "      <td>Economic activity expanded at a modest pace in...</td>\n",
       "      <td>[Economic activity expanded at a modest pace i...</td>\n",
       "      <td>-0.331972</td>\n",
       "    </tr>\n",
       "    <tr>\n",
       "      <th>200</th>\n",
       "      <td>2023-06-14</td>\n",
       "      <td>Recent indicators suggest that economic activi...</td>\n",
       "      <td>[Recent indicators suggest that economic activ...</td>\n",
       "      <td>-0.338476</td>\n",
       "    </tr>\n",
       "    <tr>\n",
       "      <th>201</th>\n",
       "      <td>2023-07-26</td>\n",
       "      <td>Recent indicators suggest that economic activi...</td>\n",
       "      <td>[Recent indicators suggest that economic activ...</td>\n",
       "      <td>-0.303405</td>\n",
       "    </tr>\n",
       "  </tbody>\n",
       "</table>\n",
       "<p>202 rows × 4 columns</p>\n",
       "</div>"
      ],
      "text/plain": [
       "          Date                                          Statement  \\\n",
       "0   2000-02-02  The Federal Open Market Committee voted today ...   \n",
       "1   2000-03-21  The Federal Open Market Committee voted today ...   \n",
       "2   2000-05-16  The Federal Open Market Committee voted today ...   \n",
       "3   2000-06-28  The Federal Open Market Committee at its meeti...   \n",
       "4   2000-08-22  The Federal Open Market Committee at its meeti...   \n",
       "..         ...                                                ...   \n",
       "197 2023-02-01  Recent indicators point to modest growth in sp...   \n",
       "198 2023-03-22  Recent indicators point to modest growth in sp...   \n",
       "199 2023-05-03  Economic activity expanded at a modest pace in...   \n",
       "200 2023-06-14  Recent indicators suggest that economic activi...   \n",
       "201 2023-07-26  Recent indicators suggest that economic activi...   \n",
       "\n",
       "                                    Statement_sentence  FOMC Sentiment Index  \n",
       "0    [The Federal Open Market Committee voted today...             -0.070471  \n",
       "1    [The Federal Open Market Committee voted today...             -0.328228  \n",
       "2    [The Federal Open Market Committee voted today...             -0.189806  \n",
       "3    [The Federal Open Market Committee at its meet...              0.261819  \n",
       "4    [The Federal Open Market Committee at its meet...              0.157842  \n",
       "..                                                 ...                   ...  \n",
       "197  [Recent indicators point to modest growth in s...             -0.204597  \n",
       "198  [Recent indicators point to modest growth in s...             -0.215664  \n",
       "199  [Economic activity expanded at a modest pace i...             -0.331972  \n",
       "200  [Recent indicators suggest that economic activ...             -0.338476  \n",
       "201  [Recent indicators suggest that economic activ...             -0.303405  \n",
       "\n",
       "[202 rows x 4 columns]"
      ]
     },
     "execution_count": 21,
     "metadata": {},
     "output_type": "execute_result"
    }
   ],
   "source": [
    "fomc_si_df"
   ]
  },
  {
   "cell_type": "code",
   "execution_count": 22,
   "metadata": {},
   "outputs": [
    {
     "name": "stdout",
     "output_type": "stream",
     "text": [
      "0     2000-02-02\n",
      "1     2000-03-21\n",
      "2     2000-05-16\n",
      "3     2000-06-28\n",
      "4     2000-08-22\n",
      "         ...    \n",
      "197   2023-02-01\n",
      "198   2023-03-22\n",
      "199   2023-05-03\n",
      "200   2023-06-14\n",
      "201   2023-07-26\n",
      "Name: Date, Length: 202, dtype: datetime64[ns]\n"
     ]
    }
   ],
   "source": [
    "print(fomc_si_df['Date'])"
   ]
  },
  {
   "cell_type": "code",
   "execution_count": 23,
   "metadata": {},
   "outputs": [],
   "source": [
    "fomc_si_df['Date'] = pd.to_datetime(fomc_si_df['Date'], errors='coerce')\n",
    "#fomc_si_df['Date'] = pd.to_datetime(fomc_si_df['Date'])\n",
    "fomc_si_df.set_index('Date', inplace=True)"
   ]
  },
  {
   "cell_type": "code",
   "execution_count": 24,
   "metadata": {},
   "outputs": [
    {
     "data": {
      "image/png": "[encoded data removed]",
      "text/plain": [
       "<Figure size 1200x600 with 1 Axes>"
      ]
     },
     "metadata": {},
     "output_type": "display_data"
    }
   ],
   "source": [
    "fig, ax1 = plt.subplots(figsize = (12, 6))\n",
    "ax1.set_ylabel('FOMC Sentiment Index', color='black')\n",
    "ax1.tick_params(axis ='y', labelcolor='black')\n",
    "\n",
    "ax1.plot(fomc_si_df['FOMC Sentiment Index'], color='black', linewidth=2.5, linestyle='-')\n",
    "ax1.axhline(y=0, color = 'red', linestyle = '-'  )\n",
    "#ax2.plot(df['Int_Rate_Diff_DEPOSIT_1M_TR']/12, color='brown')\n",
    "#ax2.plot(df['Int_Rate_Diff_DEPOSIT_1M']/12, color='purple')\n",
    "#ax2.tick_params(axis = 'y', labelcolor='purple')\n",
    "\n",
    "fig.tight_layout()\n",
    "fig.tight_layout(pad=0.2)\n",
    "fig.savefig(\"FOMC_Sentiment_Index.png\")"
   ]
  },
  {
   "cell_type": "code",
   "execution_count": 25,
   "metadata": {},
   "outputs": [
    {
     "name": "stdout",
     "output_type": "stream",
     "text": [
      "count    202.000000\n",
      "mean      -0.002320\n",
      "std        0.195040\n",
      "min       -0.521709\n",
      "25%       -0.139679\n",
      "50%       -0.020916\n",
      "75%        0.116388\n",
      "max        0.456939\n",
      "Name: FOMC Sentiment Index, dtype: float64\n"
     ]
    }
   ],
   "source": [
    "fomc_si_des_stat = fomc_si_df['FOMC Sentiment Index'].describe()\n",
    "print(fomc_si_des_stat)"
   ]
  },
  {
   "cell_type": "code",
   "execution_count": 26,
   "metadata": {},
   "outputs": [],
   "source": [
    "# End of the main code that produces the FOMC Sentiment Index!!!"
   ]
  },
  {
   "cell_type": "code",
   "execution_count": 27,
   "metadata": {},
   "outputs": [
    {
     "ename": "KeyError",
     "evalue": "202",
     "output_type": "error",
     "traceback": [
      "\u001b[0;31m---------------------------------------------------------------------------\u001b[0m",
      "\u001b[0;31mValueError\u001b[0m                                Traceback (most recent call last)",
      "File \u001b[0;32m~/anaconda3/lib/python3.10/site-packages/pandas/core/indexes/range.py:391\u001b[0m, in \u001b[0;36mRangeIndex.get_loc\u001b[0;34m(self, key, method, tolerance)\u001b[0m\n\u001b[1;32m    390\u001b[0m \u001b[38;5;28;01mtry\u001b[39;00m:\n\u001b[0;32m--> 391\u001b[0m     \u001b[38;5;28;01mreturn\u001b[39;00m \u001b[38;5;28;43mself\u001b[39;49m\u001b[38;5;241;43m.\u001b[39;49m\u001b[43m_range\u001b[49m\u001b[38;5;241;43m.\u001b[39;49m\u001b[43mindex\u001b[49m\u001b[43m(\u001b[49m\u001b[43mnew_key\u001b[49m\u001b[43m)\u001b[49m\n\u001b[1;32m    392\u001b[0m \u001b[38;5;28;01mexcept\u001b[39;00m \u001b[38;5;167;01mValueError\u001b[39;00m \u001b[38;5;28;01mas\u001b[39;00m err:\n",
      "\u001b[0;31mValueError\u001b[0m: 202 is not in range",
      "\nThe above exception was the direct cause of the following exception:\n",
      "\u001b[0;31mKeyError\u001b[0m                                  Traceback (most recent call last)",
      "Cell \u001b[0;32mIn[27], line 4\u001b[0m\n\u001b[1;32m      1\u001b[0m \u001b[38;5;66;03m# This part is to look at results for a given statement date if one wants to explore\u001b[39;00m\n\u001b[1;32m      2\u001b[0m \u001b[38;5;28;01mif\u001b[39;00m \u001b[38;5;18m__name__\u001b[39m \u001b[38;5;241m==\u001b[39m \u001b[38;5;124m\"\u001b[39m\u001b[38;5;124m__main__\u001b[39m\u001b[38;5;124m\"\u001b[39m:\n\u001b[1;32m      3\u001b[0m     \u001b[38;5;66;03m#text_data = [\"Recent indicators suggest that economic activity has continued to expand at a modest pace.\",  \"Job gains have been robust in recent months, and the unemployment rate has remained low.\",  \"Inflation remains elevated.\", \"The U.S. banking system is sound and resilient.\",  \"Tighter credit conditions for households and businesses are likely to weigh on economic activity, hiring, and inflation.\",  \"The extent of these effects remains uncertain.\",  \"The Committee remains highly attentive to inflation risks.\", \"The Committee seeks to achieve maximum employment and inflation at the rate of 2 percent over the longer run.\",  \"In support of these goals, the Committee decided to maintain the target range for the federal funds rate at 5 to 5-1/4 percent.\",  \"Holding the target range steady at this meeting allows the Committee to assess additional information and its implications for monetary policy.\",  \"In determining the extent of additional policy firming that may be appropriate to return inflation to 2 percent over time, the Committee will take into account the cumulative tightening of monetary policy, the lags with which monetary policy affects economic activity and inflation, and economic and financial developments.\", \"In addition, the Committee will continue reducing its holdings of Treasury securities and agency debt and agency mortgage-backed securities, as described in its previously announced plans.\",  \"The Committee is strongly committed to returning inflation to its 2 percent objective.\", \"In assessing the appropriate stance of monetary policy, the Committee will continue to monitor the implications of incoming information for the economic outlook.\",  \"The Committee would be prepared to adjust the stance of monetary policy as appropriate if risks emerge that could impede the attainment of the Committee's goals.\",  \"The Committee's assessments will take into account a wide range of information, including readings on labor market conditions, inflation pressures and inflation expectations, and financial and international developments.\", \"Voting for the monetary policy action were Jerome H. Powell, Chair; John C. Williams, Vice Chair; Michael S. Barr; Michelle W. Bowman; Lisa D. Cook; Austan D. Goolsbee; Patrick Harker; Philip N. Jefferson; Neel Kashkari; Lorie K. Logan; and Christopher J. Waller.\"]\u001b[39;00m\n\u001b[0;32m----> 4\u001b[0m     text_dta_i \u001b[38;5;241m=\u001b[39m \u001b[43mtext_dta\u001b[49m\u001b[43m[\u001b[49m\u001b[38;5;124;43m\"\u001b[39;49m\u001b[38;5;124;43mStatement_sentence\u001b[39;49m\u001b[38;5;124;43m\"\u001b[39;49m\u001b[43m]\u001b[49m\u001b[43m[\u001b[49m\u001b[38;5;241;43m202\u001b[39;49m\u001b[43m]\u001b[49m\n\u001b[1;32m      5\u001b[0m     predicted_sentiments \u001b[38;5;241m=\u001b[39m predict_sentiment(text_dta_i)\n",
      "File \u001b[0;32m~/anaconda3/lib/python3.10/site-packages/pandas/core/series.py:981\u001b[0m, in \u001b[0;36mSeries.__getitem__\u001b[0;34m(self, key)\u001b[0m\n\u001b[1;32m    978\u001b[0m     \u001b[38;5;28;01mreturn\u001b[39;00m \u001b[38;5;28mself\u001b[39m\u001b[38;5;241m.\u001b[39m_values[key]\n\u001b[1;32m    980\u001b[0m \u001b[38;5;28;01melif\u001b[39;00m key_is_scalar:\n\u001b[0;32m--> 981\u001b[0m     \u001b[38;5;28;01mreturn\u001b[39;00m \u001b[38;5;28;43mself\u001b[39;49m\u001b[38;5;241;43m.\u001b[39;49m\u001b[43m_get_value\u001b[49m\u001b[43m(\u001b[49m\u001b[43mkey\u001b[49m\u001b[43m)\u001b[49m\n\u001b[1;32m    983\u001b[0m \u001b[38;5;28;01mif\u001b[39;00m is_hashable(key):\n\u001b[1;32m    984\u001b[0m     \u001b[38;5;66;03m# Otherwise index.get_value will raise InvalidIndexError\u001b[39;00m\n\u001b[1;32m    985\u001b[0m     \u001b[38;5;28;01mtry\u001b[39;00m:\n\u001b[1;32m    986\u001b[0m         \u001b[38;5;66;03m# For labels that don't resolve as scalars like tuples and frozensets\u001b[39;00m\n",
      "File \u001b[0;32m~/anaconda3/lib/python3.10/site-packages/pandas/core/series.py:1089\u001b[0m, in \u001b[0;36mSeries._get_value\u001b[0;34m(self, label, takeable)\u001b[0m\n\u001b[1;32m   1086\u001b[0m     \u001b[38;5;28;01mreturn\u001b[39;00m \u001b[38;5;28mself\u001b[39m\u001b[38;5;241m.\u001b[39m_values[label]\n\u001b[1;32m   1088\u001b[0m \u001b[38;5;66;03m# Similar to Index.get_value, but we do not fall back to positional\u001b[39;00m\n\u001b[0;32m-> 1089\u001b[0m loc \u001b[38;5;241m=\u001b[39m \u001b[38;5;28;43mself\u001b[39;49m\u001b[38;5;241;43m.\u001b[39;49m\u001b[43mindex\u001b[49m\u001b[38;5;241;43m.\u001b[39;49m\u001b[43mget_loc\u001b[49m\u001b[43m(\u001b[49m\u001b[43mlabel\u001b[49m\u001b[43m)\u001b[49m\n\u001b[1;32m   1090\u001b[0m \u001b[38;5;28;01mreturn\u001b[39;00m \u001b[38;5;28mself\u001b[39m\u001b[38;5;241m.\u001b[39mindex\u001b[38;5;241m.\u001b[39m_get_values_for_loc(\u001b[38;5;28mself\u001b[39m, loc, label)\n",
      "File \u001b[0;32m~/anaconda3/lib/python3.10/site-packages/pandas/core/indexes/range.py:393\u001b[0m, in \u001b[0;36mRangeIndex.get_loc\u001b[0;34m(self, key, method, tolerance)\u001b[0m\n\u001b[1;32m    391\u001b[0m         \u001b[38;5;28;01mreturn\u001b[39;00m \u001b[38;5;28mself\u001b[39m\u001b[38;5;241m.\u001b[39m_range\u001b[38;5;241m.\u001b[39mindex(new_key)\n\u001b[1;32m    392\u001b[0m     \u001b[38;5;28;01mexcept\u001b[39;00m \u001b[38;5;167;01mValueError\u001b[39;00m \u001b[38;5;28;01mas\u001b[39;00m err:\n\u001b[0;32m--> 393\u001b[0m         \u001b[38;5;28;01mraise\u001b[39;00m \u001b[38;5;167;01mKeyError\u001b[39;00m(key) \u001b[38;5;28;01mfrom\u001b[39;00m \u001b[38;5;21;01merr\u001b[39;00m\n\u001b[1;32m    394\u001b[0m \u001b[38;5;28mself\u001b[39m\u001b[38;5;241m.\u001b[39m_check_indexing_error(key)\n\u001b[1;32m    395\u001b[0m \u001b[38;5;28;01mraise\u001b[39;00m \u001b[38;5;167;01mKeyError\u001b[39;00m(key)\n",
      "\u001b[0;31mKeyError\u001b[0m: 202"
     ]
    }
   ],
   "source": [
    "# This part is to look at results for a given statement date if one wants to explore\n",
    "if __name__ == \"__main__\":\n",
    "    #text_data = [\"Recent indicators suggest that economic activity has continued to expand at a modest pace.\",  \"Job gains have been robust in recent months, and the unemployment rate has remained low.\",  \"Inflation remains elevated.\", \"The U.S. banking system is sound and resilient.\",  \"Tighter credit conditions for households and businesses are likely to weigh on economic activity, hiring, and inflation.\",  \"The extent of these effects remains uncertain.\",  \"The Committee remains highly attentive to inflation risks.\", \"The Committee seeks to achieve maximum employment and inflation at the rate of 2 percent over the longer run.\",  \"In support of these goals, the Committee decided to maintain the target range for the federal funds rate at 5 to 5-1/4 percent.\",  \"Holding the target range steady at this meeting allows the Committee to assess additional information and its implications for monetary policy.\",  \"In determining the extent of additional policy firming that may be appropriate to return inflation to 2 percent over time, the Committee will take into account the cumulative tightening of monetary policy, the lags with which monetary policy affects economic activity and inflation, and economic and financial developments.\", \"In addition, the Committee will continue reducing its holdings of Treasury securities and agency debt and agency mortgage-backed securities, as described in its previously announced plans.\",  \"The Committee is strongly committed to returning inflation to its 2 percent objective.\", \"In assessing the appropriate stance of monetary policy, the Committee will continue to monitor the implications of incoming information for the economic outlook.\",  \"The Committee would be prepared to adjust the stance of monetary policy as appropriate if risks emerge that could impede the attainment of the Committee's goals.\",  \"The Committee's assessments will take into account a wide range of information, including readings on labor market conditions, inflation pressures and inflation expectations, and financial and international developments.\", \"Voting for the monetary policy action were Jerome H. Powell, Chair; John C. Williams, Vice Chair; Michael S. Barr; Michelle W. Bowman; Lisa D. Cook; Austan D. Goolsbee; Patrick Harker; Philip N. Jefferson; Neel Kashkari; Lorie K. Logan; and Christopher J. Waller.\"]\n",
    "    text_dta_i = text_dta[\"Statement_sentence\"][202]\n",
    "    predicted_sentiments = predict_sentiment(text_dta_i)"
   ]
  },
  {
   "cell_type": "code",
   "execution_count": null,
   "metadata": {},
   "outputs": [],
   "source": []
  },
  {
   "cell_type": "code",
   "execution_count": null,
   "metadata": {},
   "outputs": [],
   "source": []
  },
  {
   "cell_type": "code",
   "execution_count": null,
   "metadata": {},
   "outputs": [],
   "source": []
  },
  {
   "cell_type": "code",
   "execution_count": null,
   "metadata": {},
   "outputs": [],
   "source": [
    "if __name__ == \"__main__\":\n",
    "    #text_data = [\"Recent indicators suggest that economic activity has continued to expand at a modest pace.\",  \"Job gains have been robust in recent months, and the unemployment rate has remained low.\",  \"Inflation remains elevated.\", \"The U.S. banking system is sound and resilient.\",  \"Tighter credit conditions for households and businesses are likely to weigh on economic activity, hiring, and inflation.\",  \"The extent of these effects remains uncertain.\",  \"The Committee remains highly attentive to inflation risks.\", \"The Committee seeks to achieve maximum employment and inflation at the rate of 2 percent over the longer run.\",  \"In support of these goals, the Committee decided to maintain the target range for the federal funds rate at 5 to 5-1/4 percent.\",  \"Holding the target range steady at this meeting allows the Committee to assess additional information and its implications for monetary policy.\",  \"In determining the extent of additional policy firming that may be appropriate to return inflation to 2 percent over time, the Committee will take into account the cumulative tightening of monetary policy, the lags with which monetary policy affects economic activity and inflation, and economic and financial developments.\", \"In addition, the Committee will continue reducing its holdings of Treasury securities and agency debt and agency mortgage-backed securities, as described in its previously announced plans.\",  \"The Committee is strongly committed to returning inflation to its 2 percent objective.\", \"In assessing the appropriate stance of monetary policy, the Committee will continue to monitor the implications of incoming information for the economic outlook.\",  \"The Committee would be prepared to adjust the stance of monetary policy as appropriate if risks emerge that could impede the attainment of the Committee's goals.\",  \"The Committee's assessments will take into account a wide range of information, including readings on labor market conditions, inflation pressures and inflation expectations, and financial and international developments.\", \"Voting for the monetary policy action were Jerome H. Powell, Chair; John C. Williams, Vice Chair; Michael S. Barr; Michelle W. Bowman; Lisa D. Cook; Austan D. Goolsbee; Patrick Harker; Philip N. Jefferson; Neel Kashkari; Lorie K. Logan; and Christopher J. Waller.\"]\n",
    "    text_data = text_dta[\"Statement_sentence\"][201]\n",
    "    predicted_sentiments = predict_sentiment(text_data)\n"
   ]
  },
  {
   "cell_type": "code",
   "execution_count": null,
   "metadata": {},
   "outputs": [],
   "source": [
    "predicted_sentiments"
   ]
  },
  {
   "cell_type": "code",
   "execution_count": null,
   "metadata": {},
   "outputs": [],
   "source": [
    "# To get the FOMC Statements Sentiment Index first set 'neutral' sentiment scores to 0 and then calculate the difference b/w positive \n",
    "# and negative sentiment scores (probabilities)\n",
    "# Then sum over the negative of differences and divide by the total number of sentiments or use the average over the number of sentiments-sentences with a sentiment as the index \n",
    "predicted_sentiments['fomc_indx_num'] = np.where(predicted_sentiments['Predicted Sentiment']== 'neutral', 0, -1*predicted_sentiments['negative_prob'] + 1*predicted_sentiments['positive_prob'])"
   ]
  },
  {
   "cell_type": "code",
   "execution_count": null,
   "metadata": {},
   "outputs": [],
   "source": [
    "predicted_sentiments"
   ]
  },
  {
   "cell_type": "code",
   "execution_count": null,
   "metadata": {},
   "outputs": [],
   "source": [
    "fomc_sent_indx = -predicted_sentiments['fomc_indx_num'].mean()"
   ]
  },
  {
   "cell_type": "code",
   "execution_count": null,
   "metadata": {},
   "outputs": [],
   "source": [
    "fomc_sent_indx"
   ]
  },
  {
   "cell_type": "code",
   "execution_count": null,
   "metadata": {},
   "outputs": [],
   "source": []
  }
 ],
 "metadata": {
  "kernelspec": {
   "display_name": "Python 3 (ipykernel)",
   "language": "python",
   "name": "python3"
  },
  "language_info": {
   "codemirror_mode": {
    "name": "ipython",
    "version": 3
   },
   "file_extension": ".py",
   "mimetype": "text/x-python",
   "name": "python",
   "nbconvert_exporter": "python",
   "pygments_lexer": "ipython3",
   "version": "3.10.9"
  }
 },
 "nbformat": 4,
 "nbformat_minor": 4
}
