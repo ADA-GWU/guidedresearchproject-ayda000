{
 "cells": [
  {
   "cell_type": "code",
   "execution_count": 1,
   "id": "4075f8f0",
   "metadata": {},
   "outputs": [
    {
     "name": "stderr",
     "output_type": "stream",
     "text": [
      "Asking to truncate to max_length but no maximum length is provided and the model has no predefined maximum length. Default to no truncation.\n"
     ]
    },
    {
     "name": "stdout",
     "output_type": "stream",
     "text": [
      "                                 Text Predicted Sentiment\n",
      "0            This is a great company.             neutral\n",
      "1         The stock price is falling.            positive\n",
      "2  Earnings report was disappointing.            positive\n"
     ]
    }
   ],
   "source": [
    "import torch\n",
    "from transformers import BertTokenizer, BertForSequenceClassification\n",
    "import pandas as pd\n",
    "\n",
    "# Load the pre-trained finBERT model\n",
    "model_name = 'yiyanghkust/finbert-tone'\n",
    "tokenizer = BertTokenizer.from_pretrained(model_name)\n",
    "model = BertForSequenceClassification.from_pretrained(model_name)\n",
    "\n",
    "# Function to perform sentiment analysis on text data\n",
    "def predict_sentiment(text_data):\n",
    "    # Tokenize the input text data\n",
    "    tokens = tokenizer(text_data, padding=True, truncation=True, return_tensors='pt')\n",
    "    \n",
    "    # Pass the tokenized data through the finBERT model to get predicted sentiment scores\n",
    "    with torch.no_grad():\n",
    "        outputs = model(**tokens)\n",
    "        logits = outputs.logits\n",
    "\n",
    "    # Get predicted sentiment labels (positive, neutral, negative) from logits\n",
    "    _, predicted_labels = torch.max(logits, dim=1)\n",
    "    \n",
    "    # Map numerical labels back to sentiment categories\n",
    "    sentiment_mapping = {0: \"negative\", 1: \"neutral\", 2: \"positive\"}\n",
    "    predicted_sentiments = [sentiment_mapping[label.item()] for label in predicted_labels]\n",
    "\n",
    "    return predicted_sentiments\n",
    "\n",
    "# Example usage:\n",
    "if __name__ == \"__main__\":\n",
    "    text_data = [\"This is a great company.\", \"The stock price is falling.\", \"Earnings report was disappointing.\"]\n",
    "    predicted_sentiments = predict_sentiment(text_data)\n",
    "\n",
    "    # Create a DataFrame to store the results\n",
    "    results_df = pd.DataFrame({\"Text\": text_data, \"Predicted Sentiment\": predicted_sentiments})\n",
    "    print(results_df)\n"
   ]
  },
  {
   "cell_type": "code",
   "execution_count": 2,
   "id": "8164afee",
   "metadata": {},
   "outputs": [],
   "source": [
    "import torch\n",
    "from transformers import BertTokenizer, BertForSequenceClassification\n",
    "import pandas as pd"
   ]
  },
  {
   "cell_type": "code",
   "execution_count": 3,
   "id": "5fd1565b",
   "metadata": {},
   "outputs": [],
   "source": [
    "model = BertForSequenceClassification.from_pretrained(\"ProsusAI/finbert\")"
   ]
  },
  {
   "cell_type": "code",
   "execution_count": 4,
   "id": "f181cfa2",
   "metadata": {},
   "outputs": [],
   "source": [
    "tokenizer = BertTokenizer.from_pretrained(\"ProsusAI/finbert\")"
   ]
  },
  {
   "cell_type": "code",
   "execution_count": null,
   "id": "bc130476",
   "metadata": {},
   "outputs": [],
   "source": []
  }
 ],
 "metadata": {
  "kernelspec": {
   "display_name": "Python 3 (ipykernel)",
   "language": "python",
   "name": "python3"
  },
  "language_info": {
   "codemirror_mode": {
    "name": "ipython",
    "version": 3
   },
   "file_extension": ".py",
   "mimetype": "text/x-python",
   "name": "python",
   "nbconvert_exporter": "python",
   "pygments_lexer": "ipython3",
   "version": "3.10.9"
  }
 },
 "nbformat": 4,
 "nbformat_minor": 5
}
